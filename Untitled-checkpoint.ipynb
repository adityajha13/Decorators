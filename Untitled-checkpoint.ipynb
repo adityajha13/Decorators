{
 "cells": [
  {
   "cell_type": "code",
   "execution_count": null,
   "metadata": {},
   "outputs": [],
   "source": [
    "# What is a Decorator?\n",
    "\n",
    "# A decorator allows adding functionality to an existing function by passing that existing function to a decorator\n",
    "# which executes the existing function as well as the additional code. \n",
    "\n",
    "import time\n",
    "import math\n",
    "\n",
    "#Decorator to calculate execution time of a function\n",
    "def timer(func):\n",
    "    # Adding arguments for inner function. Inner function is a wrapper function in which the outer local function is called\n",
    "    # Specify *args and **kwargs if the outer function has parameters\n",
    "    def inner1(*args, **kwargs):\n",
    "        # Store time before execution of the fucntion\n",
    "        begin = time.time()\n",
    "        \n",
    "        func(*args, **kwargs)\n",
    "        \n",
    "        # Store time after execution of the function\n",
    "        end = time.time()\n",
    "        \n",
    "        print(\"Total time take in:\", func.__name__, end - begin)\n",
    "    return inner1    \n",
    "\n",
    "@timer\n",
    "def factorial(n):\n",
    "    time.sleep(1)\n",
    "    factorial = 1\n",
    "    if n == 0:\n",
    "        print(\"The factorial of 0 is\", factorial)\n",
    "    else:\n",
    "        for i in range(1,n+1):\n",
    "            factorial = factorial*i\n",
    "        print(\"The factorial of\", n , \"is\", factorial)\n",
    "    \n",
    "print(\"Case 1 - Factorial of 50\")\n",
    "factorial(50)\n",
    "\n",
    "print(\"\\n\")\n",
    "print(\"Case 2 - Factorial of 0\")\n",
    "factorial(0)"
   ]
  },
  {
   "cell_type": "code",
   "execution_count": 1,
   "metadata": {},
   "outputs": [
    {
     "name": "stdout",
     "output_type": "stream",
     "text": [
      "Case 1 - Factorial of 50\n",
      "The factorial of 50 is 30414093201713378043612608166064768844377641568960512000000000000\n",
      "Total time taken to calculate factorial:  1.0049121379852295\n",
      "\n",
      "\n",
      "Case 2 - Factorial of Negative Number\n",
      "Do you really not know that factorial doesn't exist for the negative numbers ?\n",
      "Total time taken to calculate factorial:  0.0\n",
      "The factorial of -50 is:  None\n",
      "\n",
      "\n",
      "Case 2 - Factorial of Non-Integer\n",
      "Do'h! Only the integers have factorial.\n",
      "Total time taken to calculate factorial:  0.0\n",
      "The factorial of 50.5 is:  None\n"
     ]
    }
   ],
   "source": [
    "# What is a Decorator?\n",
    "\n",
    "# A decorator allows adding functionality to an existing function by passing that existing function to a decorator\n",
    "# which executes the existing function as well as the additional code. \n",
    "\n",
    "import time\n",
    "import math\n",
    "\n",
    "#Decorator to calculate execution time of a function\n",
    "def timer(func):\n",
    "    # Adding arguments for inner function. Inner function is a wrapper function in which the outer local function is called\n",
    "    # Specify *args and **kwargs if the outer function has parameters\n",
    "    def inner1(*args, **kwargs):\n",
    "        # Store time before execution of the fucntion\n",
    "        begin = time.time()\n",
    "        \n",
    "        func(*args, **kwargs)\n",
    "        \n",
    "        # Store time after execution of the function\n",
    "        end = time.time()\n",
    "        \n",
    "        print(\"Total time taken to calculate factorial: \", end - begin)\n",
    "    return inner1    \n",
    "\n",
    "def check_parameters (func):\n",
    "    def inner(*args):\n",
    "        for i in args:\n",
    "            if i < 0:\n",
    "                print(\"Do you really not know that factorial doesn't exist for the negative numbers ?\")\n",
    "                return\n",
    "            elif not isinstance(i,int):\n",
    "                print(\"Do'h! Only the integers have factorial.\")\n",
    "                return\n",
    "            return func(*args)\n",
    "    return inner\n",
    "\n",
    "@timer\n",
    "@check_parameters\n",
    "def factorial(n):\n",
    "    time.sleep(1)\n",
    "    factorial = 1\n",
    "    if n == 0:\n",
    "        print(\"The factorial of 0 is\", factorial)\n",
    "    else:\n",
    "        for i in range(1,n+1):\n",
    "            factorial = factorial*i\n",
    "        print(\"The factorial of\", n , \"is\", factorial)\n",
    "    \n",
    "print(\"Case 1 - Factorial of 50\")\n",
    "factorial(50)\n",
    "\n",
    "print(\"\\n\")\n",
    "print(\"Case 2 - Factorial of Negative Number\")\n",
    "print(\"The factorial of -50 is: \", factorial(-50))\n",
    "\n",
    "print(\"\\n\")\n",
    "print(\"Case 2 - Factorial of Non-Integer\")\n",
    "print(\"The factorial of 50.5 is: \", factorial(50.5))\n"
   ]
  },
  {
   "cell_type": "code",
   "execution_count": 4,
   "metadata": {},
   "outputs": [
    {
     "name": "stdout",
     "output_type": "stream",
     "text": [
      "Case 1 - Factorial of 50\n",
      "The factorial of 50 is 30414093201713378043612608166064768844377641568960512000000000000\n",
      "\n",
      "\n",
      "Case 2 - Factorial of Negative Number\n",
      "Do you really not know that factorial doesn't exist for the negative numbers ?\n",
      "The factorial of -50 is:  None\n",
      "\n",
      "\n",
      "Case 2 - Factorial of Non-Integer\n",
      "Do'h! Only the integers have factorial.\n",
      "The factorial of 50.5 is:  None\n"
     ]
    }
   ],
   "source": [
    "import time\n",
    "\n",
    "def timer(func):\n",
    "    # Adding arguments for inner function. Inner function is a wrapper function in which the outer local function is called\n",
    "    # Specify *args and **kwargs if the outer function has parameters\n",
    "    def inner1(*args, **kwargs):\n",
    "        # Store time before execution of the fucntion\n",
    "        begin = time.time()\n",
    "        \n",
    "        func(*args, **kwargs)\n",
    "        \n",
    "        # Store time after execution of the function\n",
    "        end = time.time()\n",
    "        \n",
    "        print(\"Total time taken to calculate factorial: \", end - begin)\n",
    "    return inner1    \n",
    "\n",
    "def check_parameters (func):\n",
    "    def inner(*args):\n",
    "        for i in args:\n",
    "            if i < 0:\n",
    "                print(\"Do you really not know that factorial doesn't exist for the negative numbers ?\")\n",
    "                return\n",
    "            elif not isinstance(i,int):\n",
    "                print(\"Do'h! Only the integers have factorial.\")\n",
    "                return\n",
    "            return func(*args)\n",
    "    return inner\n",
    "\n",
    "@check_parameters\n",
    "@timer\n",
    "def factorial(n):\n",
    "    time.sleep(1)\n",
    "    factorial = 1\n",
    "    if n == 0:\n",
    "        print(\"The factorial of 0 is\", factorial)\n",
    "    else:\n",
    "        for i in range(1,n+1):\n",
    "            factorial = factorial*i\n",
    "        print(\"The factorial of\", n , \"is\", factorial)\n",
    "    \n",
    "print(\"Case 1 - Factorial of 50\")\n",
    "factorial(50)\n",
    "\n",
    "print(\"\\n\")\n",
    "print(\"Case 2 - Factorial of Negative Number\")\n",
    "print(\"The factorial of -50 is: \", factorial(-50))\n",
    "\n",
    "print(\"\\n\")\n",
    "print(\"Case 2 - Factorial of Non-Integer\")\n",
    "print(\"The factorial of 50.5 is: \", factorial(50.5))\n"
   ]
  },
  {
   "cell_type": "code",
   "execution_count": 10,
   "metadata": {},
   "outputs": [
    {
     "name": "stdout",
     "output_type": "stream",
     "text": [
      "Case 1 - Factorial of 50\n",
      "The factorial of 50 is 30414093201713378043612608166064768844377641568960512000000000000\n",
      "\n",
      "\n",
      "Case 2 - Factorial of 0\n",
      "The factorial of 0 is 1\n"
     ]
    }
   ],
   "source": [
    "# Function to calculate factorial\n",
    "\n",
    "def factorial(n):\n",
    "    factorial = 1\n",
    "    if n == 0:\n",
    "        print(\"The factorial of 0 is\", factorial)\n",
    "    else:\n",
    "        for i in range(1,n+1):\n",
    "            factorial = factorial*i\n",
    "        print(\"The factorial of\", n , \"is\", factorial)\n",
    "    \n",
    "print(\"Case 1 - Factorial of 50\")\n",
    "factorial(50)\n",
    "\n",
    "print(\"\\n\")\n",
    "print(\"Case 2 - Factorial of 0\")\n",
    "factorial(0)\n"
   ]
  },
  {
   "cell_type": "code",
   "execution_count": 14,
   "metadata": {},
   "outputs": [
    {
     "name": "stdout",
     "output_type": "stream",
     "text": [
      "The factorial of 10 is 3628800\n",
      "The factorial of -10 is 1\n"
     ]
    },
    {
     "ename": "TypeError",
     "evalue": "'float' object cannot be interpreted as an integer",
     "output_type": "error",
     "traceback": [
      "\u001b[1;31m---------------------------------------------------------------------------\u001b[0m",
      "\u001b[1;31mTypeError\u001b[0m                                 Traceback (most recent call last)",
      "\u001b[1;32m<ipython-input-14-d4d8ac9f4c26>\u001b[0m in \u001b[0;36m<module>\u001b[1;34m\u001b[0m\n\u001b[0;32m      6\u001b[0m \u001b[1;33m\u001b[0m\u001b[0m\n\u001b[0;32m      7\u001b[0m \u001b[1;31m# Case 3 - Factorial of a non-integer\u001b[0m\u001b[1;33m\u001b[0m\u001b[1;33m\u001b[0m\u001b[1;33m\u001b[0m\u001b[0m\n\u001b[1;32m----> 8\u001b[1;33m \u001b[0mfactorial\u001b[0m\u001b[1;33m(\u001b[0m\u001b[1;36m10.5\u001b[0m\u001b[1;33m)\u001b[0m\u001b[1;33m\u001b[0m\u001b[1;33m\u001b[0m\u001b[0m\n\u001b[0m",
      "\u001b[1;32m<ipython-input-10-12aa45742130>\u001b[0m in \u001b[0;36mfactorial\u001b[1;34m(n)\u001b[0m\n\u001b[0;32m      6\u001b[0m         \u001b[0mprint\u001b[0m\u001b[1;33m(\u001b[0m\u001b[1;34m\"The factorial of 0 is\"\u001b[0m\u001b[1;33m,\u001b[0m \u001b[0mfactorial\u001b[0m\u001b[1;33m)\u001b[0m\u001b[1;33m\u001b[0m\u001b[1;33m\u001b[0m\u001b[0m\n\u001b[0;32m      7\u001b[0m     \u001b[1;32melse\u001b[0m\u001b[1;33m:\u001b[0m\u001b[1;33m\u001b[0m\u001b[1;33m\u001b[0m\u001b[0m\n\u001b[1;32m----> 8\u001b[1;33m         \u001b[1;32mfor\u001b[0m \u001b[0mi\u001b[0m \u001b[1;32min\u001b[0m \u001b[0mrange\u001b[0m\u001b[1;33m(\u001b[0m\u001b[1;36m1\u001b[0m\u001b[1;33m,\u001b[0m\u001b[0mn\u001b[0m\u001b[1;33m+\u001b[0m\u001b[1;36m1\u001b[0m\u001b[1;33m)\u001b[0m\u001b[1;33m:\u001b[0m\u001b[1;33m\u001b[0m\u001b[1;33m\u001b[0m\u001b[0m\n\u001b[0m\u001b[0;32m      9\u001b[0m             \u001b[0mfactorial\u001b[0m \u001b[1;33m=\u001b[0m \u001b[0mfactorial\u001b[0m\u001b[1;33m*\u001b[0m\u001b[0mi\u001b[0m\u001b[1;33m\u001b[0m\u001b[1;33m\u001b[0m\u001b[0m\n\u001b[0;32m     10\u001b[0m         \u001b[0mprint\u001b[0m\u001b[1;33m(\u001b[0m\u001b[1;34m\"The factorial of\"\u001b[0m\u001b[1;33m,\u001b[0m \u001b[0mn\u001b[0m \u001b[1;33m,\u001b[0m \u001b[1;34m\"is\"\u001b[0m\u001b[1;33m,\u001b[0m \u001b[0mfactorial\u001b[0m\u001b[1;33m)\u001b[0m\u001b[1;33m\u001b[0m\u001b[1;33m\u001b[0m\u001b[0m\n",
      "\u001b[1;31mTypeError\u001b[0m: 'float' object cannot be interpreted as an integer"
     ]
    }
   ],
   "source": [
    "#Case 1. Factorial of an integer\n",
    "factorial(10)\n",
    "\n",
    "# Case 2 - Factorial of a negative number\n",
    "factorial(-10)\n",
    "\n",
    "# Case 3 - Factorial of a non-integer\n",
    "factorial(10.5)"
   ]
  },
  {
   "cell_type": "code",
   "execution_count": 20,
   "metadata": {},
   "outputs": [
    {
     "name": "stdout",
     "output_type": "stream",
     "text": [
      "Case 1. Factorial of an integer\n",
      "The factorial of 10 is 3628800\n",
      "\n",
      "Case 2 - Factorial of a negative number\n",
      "Do you really not know that factorial doesn't exist for the negative numbers ?\n",
      "\n",
      "Case 3 - Factorial of a non-integer\n",
      "Do'h! Only the integers have factorial.\n"
     ]
    }
   ],
   "source": [
    "def check_parameters (func):\n",
    "    def inner(*args):\n",
    "        for i in args:\n",
    "            if i < 0:\n",
    "                print(\"Do you really not know that factorial doesn't exist for the negative numbers ?\")\n",
    "                return\n",
    "            elif not isinstance(i,int):\n",
    "                print(\"Do'h! Only the integers have factorial.\")\n",
    "                return\n",
    "            return func(*args)\n",
    "    return inner\n",
    "\n",
    "@check_parameters\n",
    "def factorial(n):\n",
    "    factorial = 1\n",
    "    if n == 0:\n",
    "        print(\"The factorial of 0 is\", factorial)\n",
    "    else:\n",
    "        for i in range(1,n+1):\n",
    "            factorial = factorial*i\n",
    "        print(\"The factorial of\", n , \"is\", factorial)\n",
    "        \n",
    "print(\"Case 1. Factorial of an integer\")\n",
    "factorial(10)\n",
    "\n",
    "print(\"\\nCase 2 - Factorial of a negative number\")\n",
    "factorial(-10)\n",
    "\n",
    "print(\"\\nCase 3 - Factorial of a non-integer\")\n",
    "factorial(10.5)"
   ]
  },
  {
   "cell_type": "code",
   "execution_count": 30,
   "metadata": {},
   "outputs": [
    {
     "name": "stdout",
     "output_type": "stream",
     "text": [
      "The factorial of 5 is 120\n",
      "Do you really not know that factorial doesn't exist for the negative numbers ?\n"
     ]
    },
    {
     "data": {
      "text/plain": [
       "<function __main__.check_parameters.<locals>.inner(*args)>"
      ]
     },
     "execution_count": 30,
     "metadata": {},
     "output_type": "execute_result"
    }
   ],
   "source": [
    "# Another way to invoke the decorators\n",
    "\n",
    "check_parameters(factorial(5))\n",
    "\n",
    "check_parameters(factorial(-5))"
   ]
  },
  {
   "cell_type": "code",
   "execution_count": 1,
   "metadata": {},
   "outputs": [
    {
     "name": "stdout",
     "output_type": "stream",
     "text": [
      "Case 1. Factorial of an integer\n",
      "The factorial of 1000 is 402387260077093773543702433923003985719374864210714632543799910429938512398629020592044208486969404800479988610197196058631666872994808558901323829669944590997424504087073759918823627727188732519779505950995276120874975462497043601418278094646496291056393887437886487337119181045825783647849977012476632889835955735432513185323958463075557409114262417474349347553428646576611667797396668820291207379143853719588249808126867838374559731746136085379534524221586593201928090878297308431392844403281231558611036976801357304216168747609675871348312025478589320767169132448426236131412508780208000261683151027341827977704784635868170164365024153691398281264810213092761244896359928705114964975419909342221566832572080821333186116811553615836546984046708975602900950537616475847728421889679646244945160765353408198901385442487984959953319101723355556602139450399736280750137837615307127761926849034352625200015888535147331611702103968175921510907788019393178114194545257223865541461062892187960223838971476088506276862967146674697562911234082439208160153780889893964518263243671616762179168909779911903754031274622289988005195444414282012187361745992642956581746628302955570299024324153181617210465832036786906117260158783520751516284225540265170483304226143974286933061690897968482590125458327168226458066526769958652682272807075781391858178889652208164348344825993266043367660176999612831860788386150279465955131156552036093988180612138558600301435694527224206344631797460594682573103790084024432438465657245014402821885252470935190620929023136493273497565513958720559654228749774011413346962715422845862377387538230483865688976461927383814900140767310446640259899490222221765904339901886018566526485061799702356193897017860040811889729918311021171229845901641921068884387121855646124960798722908519296819372388642614839657382291123125024186649353143970137428531926649875337218940694281434118520158014123344828015051399694290153483077644569099073152433278288269864602789864321139083506217095002597389863554277196742822248757586765752344220207573630569498825087968928162753848863396909959826280956121450994871701244516461260379029309120889086942028510640182154399457156805941872748998094254742173582401063677404595741785160829230135358081840096996372524230560855903700624271243416909004153690105933983835777939410970027753472000000000000000000000000000000000000000000000000000000000000000000000000000000000000000000000000000000000000000000000000000000000000000000000000000000000000000000000000000000000000000000000000000000000000000000000000000000000000000000000000000000000\n",
      "Total time taken to calculate factorial:  0.0\n"
     ]
    }
   ],
   "source": [
    "#Decorator to calculate execution time of a function\n",
    "\n",
    "import time\n",
    "\n",
    "def timer(func):\n",
    "    # Adding arguments for inner function. Inner function is a wrapper function in which the outer local function is called\n",
    "    # Specify *args and **kwargs if the outer function has parameters\n",
    "    def inner1(*args, **kwargs):\n",
    "        # Store time before execution of the fucntion\n",
    "        begin = time.time()\n",
    "        \n",
    "        func(*args, **kwargs)\n",
    "        \n",
    "        # Store time after execution of the function\n",
    "        end = time.time()\n",
    "        \n",
    "        print(\"Total time taken to calculate factorial: \", end - begin)\n",
    "    return inner1\n",
    "\n",
    "@timer\n",
    "def factorial(n):\n",
    "    #time.sleep(1)\n",
    "    factorial = 1\n",
    "    if n == 0:\n",
    "        print(\"The factorial of 0 is\", factorial)\n",
    "    else:\n",
    "        for i in range(1,n+1):\n",
    "            factorial = factorial*i\n",
    "        print(\"The factorial of\", n , \"is\", factorial)\n",
    "        \n",
    "print(\"Case 1. Factorial of an integer\")\n",
    "factorial(1000)"
   ]
  },
  {
   "cell_type": "code",
   "execution_count": 4,
   "metadata": {},
   "outputs": [
    {
     "name": "stdout",
     "output_type": "stream",
     "text": [
      "Case 1. Factorial of small number\n",
      "The factorial of 1000 is 4.02E+2567\n",
      "Total time taken to calculate factorial:  0.000997304916381836\n",
      "\n",
      "Case2. Factorial of huge number\n",
      "The factorial of 100000 is 2.82E+456573\n",
      "Total time taken to calculate factorial:  17.41441583633423\n"
     ]
    }
   ],
   "source": [
    "#Decorator to calculate execution time of a function\n",
    "\n",
    "import time\n",
    "from decimal import Decimal\n",
    "\n",
    "def timer(func):\n",
    "    def inner1(*args, **kwargs):\n",
    "        # Store time before execution of the fucntion\n",
    "        begin = time.time()\n",
    "        \n",
    "        func(*args, **kwargs)\n",
    "        \n",
    "        # Store time after execution of the function\n",
    "        end = time.time()\n",
    "        \n",
    "        print(\"Total time taken to calculate factorial: \", end - begin)\n",
    "    return inner1\n",
    "\n",
    "@timer\n",
    "def factorial(n):\n",
    "    factorial = 1\n",
    "    if n == 0:\n",
    "        print(\"The factorial of 0 is\", factorial)\n",
    "    else:\n",
    "        for i in range(1,n+1):\n",
    "            factorial = factorial*i\n",
    "        print(\"The factorial of\", n , \"is\", \"{:.2E}\".format(Decimal(factorial)))\n",
    "        \n",
    "print(\"Case 1. Factorial of small number\")\n",
    "factorial(1000)\n",
    "\n",
    "print(\"\\nCase2. Factorial of huge number\")\n",
    "factorial(100000)"
   ]
  }
 ],
 "metadata": {
  "kernelspec": {
   "display_name": "Python 3",
   "language": "python",
   "name": "python3"
  },
  "language_info": {
   "codemirror_mode": {
    "name": "ipython",
    "version": 3
   },
   "file_extension": ".py",
   "mimetype": "text/x-python",
   "name": "python",
   "nbconvert_exporter": "python",
   "pygments_lexer": "ipython3",
   "version": "3.9.0"
  }
 },
 "nbformat": 4,
 "nbformat_minor": 4
}
